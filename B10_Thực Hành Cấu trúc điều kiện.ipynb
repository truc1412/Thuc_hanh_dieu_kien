{
 "cells": [
  {
   "cell_type": "markdown",
   "id": "708131ba",
   "metadata": {},
   "source": [
    "# Thực Hành Cấu Trúc điều kiện"
   ]
  },
  {
   "cell_type": "markdown",
   "id": "5c195788",
   "metadata": {},
   "source": [
    "## Đề 1"
   ]
  },
  {
   "cell_type": "markdown",
   "id": "fc969f36",
   "metadata": {},
   "source": [
    "Bài 1: Viết một chương trình xác định một năm có phải năm nhuận hay không ?"
   ]
  },
  {
   "cell_type": "code",
   "execution_count": 120,
   "id": "948275f5",
   "metadata": {},
   "outputs": [
    {
     "name": "stdout",
     "output_type": "stream",
     "text": [
      "nhập số năm vô :  2044\n",
      "Đây là năm nhuận\n"
     ]
    }
   ],
   "source": [
    "nam = int(input(\"Nhập năm: \"))\n",
    "if nam % 4 == 0:\n",
    "    if nam % 100 == 0:\n",
    "        if nam % 400 == 0:\n",
    "            print(f\"{nam} là năm nhuận\")\n",
    "        else:\n",
    "            print(f\"{nam} không phải là năm nhuận\")\n",
    "    else:\n",
    "        print(f\"{nam} là năm nhuận\")\n",
    "else:\n",
    "    print(f\"{nam} không phải là năm nhuận\")"
   ]
  },
  {
   "cell_type": "markdown",
   "id": "fdac64f0",
   "metadata": {},
   "source": [
    "Bài 2: Viết một chương trình để tính toán hệ số BMI (chỉ số khối cơ thể) của một người dựa trên cân nặng và chiều cao của họ."
   ]
  },
  {
   "cell_type": "code",
   "execution_count": 87,
   "id": "4ea6572d",
   "metadata": {},
   "outputs": [
    {
     "name": "stdout",
     "output_type": "stream",
     "text": [
      "Nhap can nang cua ban: 100\n",
      "Nhap chieu cao cua ban: 1.67\n",
      "bmi cua ban la 35.8564308508731\n",
      "Ban beo phi do 2\n"
     ]
    }
   ],
   "source": [
    "weight=float(input(\"Nhap can nang cua ban: \"))\n",
    "height=float(input(\"Nhap chieu cao cua ban: \"))\n",
    "bmi= weight/(height*height)\n",
    "print(f\"bmi cua ban la {bmi}\")\n",
    "if bmi < 18.5:\n",
    "    print(\"Ban dang bi gay\")\n",
    "elif bmi < 23:\n",
    "    print(\"Ban binh thuong\")\n",
    "elif bmi < 30:\n",
    "    print(\"Ban beo phi do 1\")\n",
    "else:\n",
    "    print(\"Ban beo phi do 2\")\n"
   ]
  },
  {
   "cell_type": "markdown",
   "id": "5e927ffe",
   "metadata": {},
   "source": [
    "Bài 3: Viết một chương trình để tính tuổi của một người dựa trên ngày sinh của họ, phân họ ra làm các nhóm tuổi trẻ em (0->14),Thanh niên (15 - 30) , Trung niên (30 - 59), Cao niên (lớn hơn bằng 60)"
   ]
  },
  {
   "cell_type": "code",
   "execution_count": 65,
   "id": "ae4bf07a",
   "metadata": {},
   "outputs": [
    {
     "name": "stdout",
     "output_type": "stream",
     "text": [
      "Nhập năm sinh của bạn:1995\n",
      "số tuổi của bạn là : 28 và thuộc nhóm Thanh niên\n"
     ]
    }
   ],
   "source": [
    "import datetime\n",
    "year = int(input(\"Nhập năm sinh: \"))\n",
    "month = int(input(\"Nhập tháng sinh: \"))\n",
    "day = int(input(\"Nhập ngày sinh: \"))\n",
    "\n",
    "# Tính số ngày từ ngày sinh đến hiện tại\n",
    "today = datetime.datetime.today()\n",
    "birthday = datetime.datetime(year, month, day)\n",
    "age_in_days = (today - birthday).days\n",
    "\n",
    "# Tính tuổi theo năm\n",
    "age_in_years = age_in_days // 365\n",
    "\n",
    "# In tuổi và nhóm tuổi\n",
    "print(f\"Tuổi: {age_in_years}\")\n",
    "if age_in_years < 15:\n",
    "    print(\"Trẻ em\")\n",
    "elif age_in_years < 31:\n",
    "    print(\"Thanh niên\")\n",
    "elif age_in_years < 60:\n",
    "    print(\"Trung niên\")\n",
    "else:\n",
    "    print(\"Cao niên\")"
   ]
  },
  {
   "cell_type": "markdown",
   "id": "5a20b751",
   "metadata": {},
   "source": [
    "Bài 4 :Viết một chương trình để xác định xem một số có phải là số nguyên tố hay không."
   ]
  },
  {
   "cell_type": "code",
   "execution_count": 112,
   "id": "e1f85de7",
   "metadata": {},
   "outputs": [
    {
     "name": "stdout",
     "output_type": "stream",
     "text": [
      "Nhập số: 3\n",
      "3 là số nguyên tố\n"
     ]
    }
   ],
   "source": [
    "n=int(input(\"Nhập số: \"))\n",
    "m=True\n",
    "if n<2:\n",
    "    m=False\n",
    "elif (n==2):\n",
    "    m=True\n",
    "else:\n",
    "    for i in range (2,n):\n",
    "        if(n%i ==0):\n",
    "            m=False\n",
    "if m==True:\n",
    "    print(n,\"là số nguyên tố\")\n",
    "else: \n",
    "    print(n,\"không là số nguyên tố\")"
   ]
  },
  {
   "cell_type": "markdown",
   "id": "47127f74",
   "metadata": {},
   "source": [
    "Bài 5:  Viết chương trình kiểm tra bộ ba số a, b, c nhập vào từ bàn phím có phải là bộ ba cạnh của một tam giác hay không?"
   ]
  },
  {
   "cell_type": "code",
   "execution_count": null,
   "id": "c9886361",
   "metadata": {},
   "outputs": [],
   "source": [
    "x= float(input(\"Nhap canh thu nhat: \"))\n",
    "y= float(input(\"Nhap canh thu hai: \"))\n",
    "z= float(input(\"Nhap canh thu ba: \"))\n",
    "if x < y+z and y < x+z and z < x+y:\n",
    "    print(\"Day la mot tam giac\")\n",
    "else: \n",
    "    print(\"Day khong phai la mot tam giac\")\n"
   ]
  },
  {
   "attachments": {
    "image.png": {
     "image/png": "[encoded data removed]"
    }
   },
   "cell_type": "markdown",
   "id": "e74a56ef",
   "metadata": {},
   "source": [
    "Bài 6 ** Viết chương trình tính phương trình bậc 3 ![image.png](attachment:image.png)"
   ]
  },
  {
   "cell_type": "code",
   "execution_count": null,
   "id": "6da6b13c",
   "metadata": {},
   "outputs": [],
   "source": [
    "import math\n",
    "a = float(input(\"Nhập hệ số a: \"))\n",
    "b = float(input(\"Nhập hệ số b: \"))\n",
    "c = float(input(\"Nhập hệ số c: \"))\n",
    "d = float(input(\"Nhập hệ số d: \"))\n",
    "\n",
    "delta = 18*a*b*c*d - 4*b**3*d + b**2*c**2 - 4*a*c**3 - 27*a**2*d**2\n",
    "\n",
    "if delta == 0:\n",
    "    x = -b / (3*a)\n",
    "    print(f\"Phương trình có 3 nghiệm giống nhau x = {x}\")\n",
    "elif delta < 0:\n",
    "    r = -b / (3*a)\n",
    "    t = -cmath.sqrt(-delta) / (3*a)\n",
    "    x1 = r + t\n",
    "    x2 = r - t\n",
    "    x3 = r\n",
    "    print(f\"Phương trình có 3 nghiệm khác nhau x1 = {x1}, x2 = {x2} và x3 = {x3}\")\n",
    "else:\n",
    "    x = (-b + math.sqrt(delta)) / (3*a)\n",
    "    print(f\"Phương trình có 1 nghiệm duy nhất x = {x}\")\n"
   ]
  },
  {
   "cell_type": "markdown",
   "id": "e853af3e",
   "metadata": {},
   "source": [
    "## Đề 2"
   ]
  },
  {
   "cell_type": "markdown",
   "id": "e15f8e23",
   "metadata": {},
   "source": [
    "Bài 1: Viết một chương trình để tính tổng của tất cả các số nguyên tố trong khoảng từ 1 đến một số nhập vào."
   ]
  },
  {
   "cell_type": "code",
   "execution_count": 29,
   "id": "bc8e659a",
   "metadata": {},
   "outputs": [
    {
     "name": "stdout",
     "output_type": "stream",
     "text": [
      "Nhập số n: 7\n",
      "2\n",
      "Tổng các số nguyên tố trong khoảng từ 1 đến 7 là: 2\n"
     ]
    }
   ],
   "source": [
    "def is_prime(n):\n",
    "    # Nếu n < 2 thì không phải số nguyên tố\n",
    "    if n < 2:\n",
    "        return False\n",
    "    # Duyệt từ 2 đến căn bậc 2 của n, nếu n chia hết cho bất kỳ số nào thì n không phải số nguyên tố\n",
    "    for i in range(2, int(n**0.5)+1):\n",
    "        if n % i == 0:\n",
    "            return False\n",
    "    # Nếu không thì n là số nguyên tố\n",
    "    return True\n",
    "\n",
    "# Nhập số n\n",
    "n = int(input(\"Nhập số n: \"))\n",
    "\n",
    "# Tính tổng các số nguyên tố trong khoảng từ 1 đến n\n",
    "sum = 0\n",
    "for i in range(1, n+1):\n",
    "    if is_prime(i):\n",
    "        sum += i\n",
    "\n",
    "# In kết quả ra màn hình\n",
    "print(f\"Tổng các số nguyên tố trong khoảng từ 1 đến {n} là: {sum}\")"
   ]
  },
  {
   "cell_type": "markdown",
   "id": "345d337a",
   "metadata": {},
   "source": [
    "Bài 2 :Giả sử có một chiếc xe đang lưu thông trên đường , gặp một ngã tư ,có một đèn tín hiệu giao thông, Hãy viết chương trình để điều khiển giao thông ở nut giao đó."
   ]
  },
  {
   "cell_type": "code",
   "execution_count": null,
   "id": "189cc984",
   "metadata": {},
   "outputs": [],
   "source": [
    "\n",
    "traffic_light= input(\"đèn màu \")\n",
    "\n",
    "if traffic_light== \"green\": \n",
    "    print(\"Xe được phép đi qua ngã tư\")\n",
    "elif traffic_light == \"yellow\":\n",
    "    print(\"Cảnh báo: Đèn tín hiệu sắp chuyển sang đỏ\")\n",
    "else:\n",
    "    print(\"Xe không được phép đi qua ngã tư\")"
   ]
  },
  {
   "cell_type": "markdown",
   "id": "1b18a69e",
   "metadata": {},
   "source": [
    "Bài 3: Viết một chương trình yêu cầu dự báo thời tiết ngày mai và sau đó gợi ý quần áo phù hợp với thời tiết. Đề xuất sẽ thay đổi nếu nhiệt độ (được đo bằng độ C) là trên 20, 10 hoặc 5 độ, và nếu có mưa trên radar."
   ]
  },
  {
   "cell_type": "code",
   "execution_count": null,
   "id": "ef2e7b7e",
   "metadata": {},
   "outputs": [],
   "source": [
    "temperature = int(input(\"nhiệt độ :\" )) \n",
    "raining = False\n",
    "print(\"Dự báo thời tiết ngày mai:\")\n",
    "if temperature > 20:\n",
    "    print(\"Nhiệt độ cao, có thể sẽ nóng\")\n",
    "elif temperature > 10:\n",
    "    print(\"Nhiệt độ trung bình, có thể sẽ ấm áp\")\n",
    "else:\n",
    "    print(\"Nhiệt độ thấp, có thể sẽ lạnh\")\n",
    "if raining:\n",
    "    print(\"Có thể sẽ có mưa\")\n",
    "else:\n",
    "    print(\"Dự báo không có mưa\")\n",
    "\n",
    "print(\"Gợi ý quần áo cho ngày mai:\")\n",
    "if temperature > 20:\n",
    "    print(\"Đề xuất mặc quần nỉ hoặc vải mỏng, áo sơ mi hoặc áo liền.\")\n",
    "elif temperature > 10:\n",
    "    print(\"Đề xuất mặc quần jean hoặc quần kaki, áo sơ mi hoặc áo len.\")\n",
    "else:\n",
    "    print(\"Đề xuất mặc quần dài hoặc quần lót, áo len hoặc áo khoác.\")\n",
    "\n",
    "if raining:\n",
    "    print(\"Nên mang theo áo mưa\" )"
   ]
  },
  {
   "cell_type": "markdown",
   "id": "bcefbd69",
   "metadata": {},
   "source": [
    "Bài 4 : Viết chương trình thực hiện thông báo cho người sử dụng nhập vào giá trị ba số nguyên và tìm giá trị lớn nhất trong ba giá trị này"
   ]
  },
  {
   "cell_type": "code",
   "execution_count": 1,
   "id": "d7d1ebb1",
   "metadata": {},
   "outputs": [
    {
     "name": "stdout",
     "output_type": "stream",
     "text": [
      "Nhập a3\n",
      "Nhập b4\n",
      "Nhập c6\n",
      "Giá trị lớn nhất là 6\n"
     ]
    }
   ],
   "source": [
    "a=int(input(\"Nhập a \"))\n",
    "b=int(input(\"Nhập b \"))\n",
    "c=int(input(\"Nhập c \"))\n",
    "max_num = a\n",
    "if b>max_num:\n",
    "    max_num=b\n",
    "if c>max_num:\n",
    "    max_num=c\n",
    "print(\"Giá trị lớn nhất là\",max_num)"
   ]
  },
  {
   "cell_type": "markdown",
   "id": "450a22f3",
   "metadata": {},
   "source": [
    "Bài 5:  Viết chương trình nhập vào 3 số thực dương bất kỳ, xuất ra màn hình đó là tam giác thường, tam giác cân, tam giác vuông, tam giác vuông cân, tam giác đều hay không phải là ba cạnh của một tam giác?"
   ]
  },
  {
   "cell_type": "code",
   "execution_count": null,
   "id": "64a7a8f3",
   "metadata": {},
   "outputs": [],
   "source": [
    "\n",
    "a = float(input(\"Nhập vào số thứ nhất: \"))\n",
    "b = float(input(\"Nhập vào số thứ hai: \"))\n",
    "c = float(input(\"Nhập vào số thứ ba: \"))\n",
    "\n",
    "\n",
    "if a + b > c and a + c > b and b + c > a:\n",
    "    if a == b == c:\n",
    "        print(\"Đây là tam giác đều.\")\n",
    "    elif a == b or a == c or b == c:\n",
    "        print(\"Đây là tam giác cân.\")\n",
    "    elif a ** 2 + b ** 2 == c ** 2 or a ** 2 + c ** 2 == b ** 2 or b ** 2 + c ** 2 == a ** 2:\n",
    "        print(\"Đây là tam giác vuông cân.\")\n",
    "    elif a == b or a == c or b == c:\n",
    "        print(\"Đây là tam giác thường.\")\n",
    "    else:\n",
    "        print(\"Đây là tam giác vuông.\")\n",
    "else:\n",
    "    print(\"Đây không phải tam giác\")\n"
   ]
  },
  {
   "cell_type": "markdown",
   "id": "fde5b970",
   "metadata": {},
   "source": [
    "Bài 6 ** Viết chương trình để giải 1 câu đố cổ của Trung Quốc: Một trang trại thỏ và gà có 35 đầu, 94 chân, hỏi số thỏ và gà là bao nhiêu?\n",
    "(khuyến khích sài vòng lặp for nếu biết)"
   ]
  },
  {
   "cell_type": "code",
   "execution_count": null,
   "id": "64a73ba9",
   "metadata": {},
   "outputs": [],
   "source": [
    "num_heads = 35  \n",
    "num_legs = 94  \n",
    "\n",
    "for num_rabbits in range(num_heads + 1):  \n",
    "    num_chickens = num_heads - num_rabbits\n",
    "    if num_rabbits * 4 + num_chickens * 2 == num_legs:\n",
    "        print(\"Số thỏ là\", num_rabbits)\n",
    "        print(\"Số gà là\", num_chickens)\n",
    "        break\n",
    "\n",
    "else:\n",
    "    print(\"Không tìm thấy số lượng thỏ và gà hợp lệ.\")"
   ]
  },
  {
   "cell_type": "markdown",
   "id": "490ee030",
   "metadata": {},
   "source": [
    "## Đề 3 "
   ]
  },
  {
   "cell_type": "markdown",
   "id": "57b4126e",
   "metadata": {},
   "source": [
    "Bài 1: Dãy Fibonacci được tính dựa trên công thức sau:</p>\n",
    "\n",
    "f(n)=0 nếu n=0</p>\n",
    "f(n)=1 nếu n=1</p>\n",
    "f(n)=f(n-1)+f(n-2) nếu n>1</p>\n",
    "Hãy viết chương trình tính giá trị của f(n) với n là số được người dùng nhập vào. Ví dụ: Nếu n được nhập vào là 7 thì đầu ra của chương trình sẽ là 13"
   ]
  },
  {
   "cell_type": "code",
   "execution_count": null,
   "id": "9dca956a",
   "metadata": {},
   "outputs": [],
   "source": [
    "n = int(input(\"Nhập vào số n: \"))\n",
    "if n == 0:\n",
    "    result = 0\n",
    "elif n == 1:\n",
    "    result = 1\n",
    "else:\n",
    "    result = fibonacci(n - 1) + fibonacci(n - 2)\n",
    "print(\"f(n) =\", result)"
   ]
  },
  {
   "cell_type": "markdown",
   "id": "b272aa6d",
   "metadata": {},
   "source": [
    "Bài 2 : Hãy viết chương trình nhập vào số nguyên dương n. Kiểm tra xem n có phải là số\n",
    "chính phương hay không? (số chính phương là số khi lấy căn bậc 2 có kết quả là\n",
    "nguyên). Hãy viết chương trình kiểm tra số chính phương."
   ]
  },
  {
   "cell_type": "code",
   "execution_count": null,
   "id": "7b884ea0",
   "metadata": {},
   "outputs": [],
   "source": [
    "import math\n",
    "\n",
    "def is_square(n):\n",
    "  if n < 0:\n",
    "    return False\n",
    "  elif n == 0:\n",
    "    return True\n",
    "  else:\n",
    "    x = int(math.sqrt(n))\n",
    "    return x*x == n\n",
    "\n",
    "# Sử dụng hàm\n",
    "n = int(input(\"Nhập vào số nguyên dương n: \"))\n",
    "print(is_square(n))"
   ]
  },
  {
   "cell_type": "markdown",
   "id": "ba743590",
   "metadata": {},
   "source": [
    "Bài 3: Kiểm tra mùa trong năm xem tháng mấy là Thu, Đông, Xuân hay Hè. Nếu thông tin người dùng nhập là: Tháng 9, 10 hoặc 11 thì mùa là Thu; Tháng 12, tháng 01 hoặc 02 thì mùa Đông; Tháng 3, tháng 4 hoặc tháng 5 thì mùa Xuân; Tháng 6, tháng 7 hoặc tháng 8 thì mùa Hạ."
   ]
  },
  {
   "cell_type": "code",
   "execution_count": 33,
   "id": "62a724f7",
   "metadata": {},
   "outputs": [
    {
     "name": "stdout",
     "output_type": "stream",
     "text": [
      "Nhập vào tháng: 12\n",
      "Dong\n"
     ]
    }
   ],
   "source": [
    "\n",
    "month = int(input(\"Nhập vào tháng: \"))\n",
    "if month==9 or month==10 or month==11:\n",
    "    print(\"Thu\")\n",
    "elif month==12 or month==1 or month==2:\n",
    "    print(\"Dong\")\n",
    "elif month==3 or month==4 or month==5:\n",
    "    print(\"Xuan\")\n",
    "elif month==6 or month==7 or month==8:\n",
    "    print(\"He\")"
   ]
  },
  {
   "cell_type": "markdown",
   "id": "e0bc1dbb",
   "metadata": {},
   "source": [
    "Bài 4: Giải phương trình bậc nhất ax+b=0 (với a, b là kiểu số nguyên)."
   ]
  },
  {
   "cell_type": "code",
   "execution_count": 34,
   "id": "ead1b597",
   "metadata": {},
   "outputs": [
    {
     "name": "stdout",
     "output_type": "stream",
     "text": [
      "Nhập vào số nguyên a: 3\n",
      "Nhập vào số nguyên b: 4\n",
      "-1.3333333333333333\n"
     ]
    }
   ],
   "source": [
    "def solve_equation(a, b):\n",
    "  if a == 0:\n",
    "    if b == 0:\n",
    "      return \"Phương trình có vô số nghiệm\"\n",
    "    else:\n",
    "      return \"Phương trình vô nghiệm\"\n",
    "  else:\n",
    "    return -b/a\n",
    "\n",
    "# Sử dụng hàm\n",
    "a = int(input(\"Nhập vào số nguyên a: \"))\n",
    "b = int(input(\"Nhập vào số nguyên b: \"))\n",
    "print(solve_equation(a, b))\n"
   ]
  },
  {
   "cell_type": "markdown",
   "id": "a875c355",
   "metadata": {},
   "source": [
    "Bài 4: Giá bán cam tại siêu thị tính như sau: nếu khối lượng cam mua dưới 5kg thì giá bán là 12 000 đồng/kg, nếu khối lượng mua lớn hơn hoặc bằng 5kg thì giá bán là 10 000 đồng/kg. Viết chương trình nhập số lượng mua (tính theo kg) sau đó tính số tiền phải trả."
   ]
  },
  {
   "cell_type": "code",
   "execution_count": null,
   "id": "d0e392f6",
   "metadata": {},
   "outputs": [],
   "source": [
    "def get_price(quantity):\n",
    "  if quantity < 5:\n",
    "    return quantity * 12000\n",
    "  else:\n",
    "    return quantity * 10000\n",
    "\n",
    "# Sử dụng hàm\n",
    "quantity = int(input(\"Nhập số lượng cam mua (tính theo kg): \"))\n",
    "print(get_price(quantity))"
   ]
  },
  {
   "cell_type": "markdown",
   "id": "69105c22",
   "metadata": {},
   "source": [
    "Bài 5** : viết chương trình chia thành 2 bảng A và B đấu ở Aff CUP 2022 và tính điểm(Thắng 3đ ,Bại 0đ,Hòa 1đ) thi đấu theo thể thức vòng tròn.</p>  Mỗi bảng đấu lấy 2 đội nhất và nhì bảng để thi đấu tiếp vào vòng bán kết ,đội nhất bảng A sẽ thi đấu với đội nhì bảng B và ngược lại.</p> Để chọn ra 2 đội xuất sắc nhất thi đấu ở trận chung kết nếu đội nào thắng sẽ là nhà vô địch .</p> Được biết trong danh sách có 10 đội (Thailand,Laos,Campuchia,Singapore,Vietnam, Indonesia, Malaysia, Philippines,Myanmar,Timor-Leste,Brunei) các đội tham gia ,các đội không được trùng nhau ở các bảng đấu."
   ]
  },
  {
   "cell_type": "code",
   "execution_count": null,
   "id": "12f4faa4",
   "metadata": {},
   "outputs": [],
   "source": []
  },
  {
   "cell_type": "code",
   "execution_count": 40,
   "id": "38b815e6",
   "metadata": {},
   "outputs": [
    {
     "name": "stdout",
     "output_type": "stream",
     "text": [
      "Enter the result of the match between Thailand and Vietnam: Win\n",
      "Enter the result of the match between Laos and Singapore: Win\n",
      "Enter the result of the match between Cambodia and Cambodia: Win\n",
      "Enter the result of the match between Singapore and Laos: Win\n",
      "Enter the result of the match between Vietnam and Thailand: Win\n",
      "Enter the result of the match between Malaysia and Brunei: Win\n",
      "Enter the result of the match between Philippines and Timor-Leste: Win\n",
      "Enter the result of the match between Myanmar and Myanmar: Win\n",
      "Enter the result of the match between Timor-Leste and Philippines: Win\n",
      "Enter the result of the match between Brunei and Malaysia: Win\n",
      "Enter the result of the match between Thailand and Vietnam: Win\n",
      "Enter the result of the match between Laos and Singapore: Win\n",
      "Enter the result of the match between Cambodia and Cambodia: Win\n",
      "Enter the result of the match between Singapore and Laos: Win\n",
      "Enter the result of the match between Vietnam and Thailand: Win\n",
      "Enter the result of the match between Malaysia and Brunei: Win\n",
      "Enter the result of the match between Philippines and Timor-Leste: Win\n",
      "Enter the result of the match between Myanmar and Myanmar: Win\n",
      "Enter the result of the match between Timor-Leste and Philippines: Win\n",
      "Enter the result of the match between Brunei and Malaysia: Win\n",
      "Enter the result of the match between Thailand and Vietnam: Win\n",
      "Enter the result of the match between Laos and Singapore: Win\n",
      "Enter the result of the match between Cambodia and Cambodia: Win\n",
      "Enter the result of the match between Singapore and Laos: Win\n",
      "Enter the result of the match between Vietnam and Thailand: Win\n",
      "Enter the result of the match between Malaysia and Brunei: Win\n",
      "Enter the result of the match between Philippines and Timor-Leste: Win\n",
      "Enter the result of the match between Myanmar and Myanmar: Win\n",
      "Enter the result of the match between Timor-Leste and Philippines: Win\n",
      "Enter the result of the match between Brunei and Malaysia: Win\n",
      "Enter the result of the match between Thailand and Vietnam: Win\n",
      "Enter the result of the match between Laos and Singapore: Win\n",
      "Enter the result of the match between Cambodia and Cambodia: Win\n",
      "Enter the result of the match between Singapore and Laos: Win\n",
      "Enter the result of the match between Vietnam and Thailand: Win\n",
      "Enter the result of the match between Malaysia and Brunei: Win\n",
      "Enter the result of the match between Philippines and Timor-Leste: Win\n",
      "Enter the result of the match between Myanmar and Myanmar: Win\n",
      "Enter the result of the match between Timor-Leste and Philippines: Win\n",
      "Enter the result of the match between Brunei and Malaysia: Win\n",
      "Enter the result of the match between Thailand and Vietnam: Win\n",
      "Enter the result of the match between Laos and Singapore: Win\n",
      "Enter the result of the match between Cambodia and Cambodia: Win\n",
      "Enter the result of the match between Singapore and Laos: Win\n",
      "Enter the result of the match between Vietnam and Thailand: Win\n",
      "Enter the result of the match between Malaysia and Brunei: Win\n",
      "Enter the result of the match between Philippines and Timor-Leste: Win\n",
      "Enter the result of the match between Myanmar and Myanmar: Win\n",
      "Enter the result of the match between Timor-Leste and Philippines: Win\n",
      "Enter the result of the match between Brunei and Malaysia: Win\n",
      "The 2 best teams are: Thailand (Group A) and Laos (Group B)\n",
      "The 2 second teams are: Cambodia (Group A) and Singapore (Group B)\n",
      "Enter the result of the match between Thailand and Singapore: Win\n",
      "Enter the result of the match between Laos and Cambodia: Win\n",
      "The 2 team into the final are: Thailand and Laos\n",
      "Enter the result of the match between Thailand and Laos: Win\n",
      "The champion team is: Thailand\n"
     ]
    }
   ],
   "source": [
    "# List of participating teams\n",
    "teams = [\"Thailand\", \"Laos\", \"Cambodia\", \"Singapore\", \"Vietnam\", \"Indonesia\", \"Malaysia\", \"Philippines\", \"Myanmar\", \"Timor-Leste\", \"Brunei\"]\n",
    "\n",
    "# Reorder the team list according to the group\n",
    "# Group A\n",
    "table_a = teams[:6]\n",
    "# Group B\n",
    "table_b = teams[6:]\n",
    "\n",
    "# Variable to store the scores of each team\n",
    "scores = {team: 0 for team in teams}\n",
    "\n",
    "# Round-robin\n",
    "for i in range(5):\n",
    "    # Matches between teams in Group A\n",
    "    for j in range(5):\n",
    "        team1 = table_a[j]\n",
    "        team2 = table_a[5-j-1]\n",
    "        result = input(f\"Enter the result of the match between {team1} and {team2}: \")\n",
    "        if result == \"Win\":\n",
    "            scores[team1] += 3\n",
    "        elif result == \"Draw\":\n",
    "            scores[team1] += 1\n",
    "            scores[team2] += 1\n",
    "        else:\n",
    "            scores[team2] += 3\n",
    "\n",
    "    # Matches between teams in Group B\n",
    "    for j in range(5):\n",
    "        team1 = table_b[j]\n",
    "        team2 = table_b[5-j-1]\n",
    "        result = input(f\"Enter the result of the match between {team1} and {team2}: \")\n",
    "        if result == \"Win\":\n",
    "            scores[team1] += 3\n",
    "        elif result == \"Draw\":\n",
    "            scores[team1] += 1\n",
    "            scores[team2] += 1\n",
    "        else:\n",
    "            scores[team2] += 3\n",
    "\n",
    "# Reorder the team list according to the scores\n",
    "sorted_scores = sorted(scores.items(), key=lambda x: x[1], reverse=True)\n",
    "\n",
    "# Print the 2 best teams from Group A and B\n",
    "best_team_a = sorted_scores[0][0]\n",
    "best_team_b = sorted_scores[1][0]\n",
    "sec_team_a=sorted_scores[2][0]\n",
    "sec_team_b=sorted_scores[3][0]\n",
    "print(f\"The 2 best teams are: {best_team_a} (Group A) and {best_team_b} (Group B)\")\n",
    "print(f\"The 2 second teams are: {sec_team_a} (Group A) and {sec_team_b} (Group B)\")\n",
    "\n",
    "result1 = input(f\"Enter the result of the match between {best_team_a} and {sec_team_b}: \")\n",
    "if result1==\"Win\":\n",
    "    final_team1=best_team_a\n",
    "else:\n",
    "    final_team1=sec_team_b\n",
    "result2 = input(f\"Enter the result of the match between {best_team_b} and {sec_team_a}: \")\n",
    "if result1==\"Win\":\n",
    "    final_team2=best_team_b\n",
    "else:\n",
    "    final_team2=sec_team_a\n",
    "print(f\"The 2 team into the final are: {final_team1} and {final_team2}\")\n",
    "\n",
    "result3 = input(f\"Enter the result of the match between {final_team1} and {final_team2}: \")\n",
    "if result1==\"Win\":\n",
    "    champion_team=final_team1\n",
    "else:\n",
    "    champion_team=final_team2\n",
    "print(f\"The champion team is: {champion_team}\")"
   ]
  },
  {
   "cell_type": "code",
   "execution_count": null,
   "id": "582a4c0a",
   "metadata": {},
   "outputs": [],
   "source": []
  }
 ],
 "metadata": {
  "kernelspec": {
   "display_name": "Python 3 (ipykernel)",
   "language": "python",
   "name": "python3"
  },
  "language_info": {
   "codemirror_mode": {
    "name": "ipython",
    "version": 3
   },
   "file_extension": ".py",
   "mimetype": "text/x-python",
   "name": "python",
   "nbconvert_exporter": "python",
   "pygments_lexer": "ipython3",
   "version": "3.9.13"
  }
 },
 "nbformat": 4,
 "nbformat_minor": 5
}
